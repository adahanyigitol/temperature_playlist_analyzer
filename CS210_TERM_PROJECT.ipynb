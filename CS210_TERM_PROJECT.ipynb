{
 "cells": [
  {
   "cell_type": "code",
   "execution_count": 45,
   "id": "dfe57ad3",
   "metadata": {},
   "outputs": [
    {
     "name": "stdout",
     "output_type": "stream",
     "text": [
      "              Song Name                                              Genre\n",
      "0        Basic Instinct                                 organic electronic\n",
      "1               Breathe                          indie anthem-folk, uk pop\n",
      "2    i was all over her  countrygaze, lo-fi emo, lo-fi indie, pov: indi...\n",
      "3         Try Hard Fool  garage rock revival, indie garage rock, indie ...\n",
      "4                  Pyro                                  modern rock, rock\n",
      "..                  ...                                                ...\n",
      "336      IV. Sweatpants                          atl hip hop, hip hop, rap\n",
      "337   I. The Worst Guys  atl hip hop, hip hop, rap, chicago rap, consci...\n",
      "338                 N95    conscious hip hop, hip hop, rap, west coast rap\n",
      "339        Count Me Out    conscious hip hop, hip hop, rap, west coast rap\n",
      "340             Alright    conscious hip hop, hip hop, rap, west coast rap\n",
      "\n",
      "[341 rows x 2 columns]\n"
     ]
    }
   ],
   "source": [
    "import pandas as pd\n",
    "\n",
    "# Specify the path to your CSV file\n",
    "csv_file_path = '/Users/adahanyigitol/Desktop/CS210/ benim.csv'\n",
    "\n",
    "try:\n",
    "    # Read only the necessary columns (2nd, 11th, 12th, and 15th) from the CSV file\n",
    "    columns_to_read = [1, 10, 11, 14]  # 0-based index\n",
    "    \n",
    "    column_to_read_genre = [1,5]\n",
    "\n",
    "    # Use the read_csv function to create a DataFrame, skip the first column\n",
    "    df = pd.read_csv(csv_file_path, usecols=columns_to_read, header=0)\n",
    "    \n",
    "    gdf = pd.read_csv(csv_file_path, usecols=column_to_read_genre, header=0)\n",
    "\n",
    "    # Rename the columns for better clarity\n",
    "    df.columns = ['Song Name', 'Dance Values', 'Energy Values', 'Happiness']\n",
    "\n",
    "    gdf.columns = ['Song Name', 'Genre']\n",
    "    # Fill NaN (empty) values with 0\n",
    "    df = df.fillna(0)\n",
    "    gdf = gdf.fillna(0)\n",
    "\n",
    "    # Display the resulting DataFrame\n",
    "    #print(df)\n",
    "    print(gdf)\n",
    "\n",
    "except FileNotFoundError:\n",
    "    print(f\"Error: The file '{csv_file_path}' could not be found.\")\n",
    "except Exception as e:\n",
    "    print(f\"An error occurred: {e}\")\n"
   ]
  },
  {
   "cell_type": "code",
   "execution_count": 30,
   "id": "0ca24a83",
   "metadata": {},
   "outputs": [
    {
     "data": {
      "text/html": [
       "<div>\n",
       "<style scoped>\n",
       "    .dataframe tbody tr th:only-of-type {\n",
       "        vertical-align: middle;\n",
       "    }\n",
       "\n",
       "    .dataframe tbody tr th {\n",
       "        vertical-align: top;\n",
       "    }\n",
       "\n",
       "    .dataframe thead th {\n",
       "        text-align: right;\n",
       "    }\n",
       "</style>\n",
       "<table border=\"1\" class=\"dataframe\">\n",
       "  <thead>\n",
       "    <tr style=\"text-align: right;\">\n",
       "      <th></th>\n",
       "      <th>Song Name</th>\n",
       "      <th>Dance Values</th>\n",
       "      <th>Energy Values</th>\n",
       "      <th>Happiness</th>\n",
       "    </tr>\n",
       "  </thead>\n",
       "  <tbody>\n",
       "    <tr>\n",
       "      <th>0</th>\n",
       "      <td>Basic Instinct</td>\n",
       "      <td>74</td>\n",
       "      <td>47</td>\n",
       "      <td>33</td>\n",
       "    </tr>\n",
       "    <tr>\n",
       "      <th>1</th>\n",
       "      <td>Breathe</td>\n",
       "      <td>41</td>\n",
       "      <td>38</td>\n",
       "      <td>7</td>\n",
       "    </tr>\n",
       "    <tr>\n",
       "      <th>2</th>\n",
       "      <td>i was all over her</td>\n",
       "      <td>53</td>\n",
       "      <td>35</td>\n",
       "      <td>6</td>\n",
       "    </tr>\n",
       "  </tbody>\n",
       "</table>\n",
       "</div>"
      ],
      "text/plain": [
       "            Song Name  Dance Values  Energy Values  Happiness\n",
       "0      Basic Instinct            74             47         33\n",
       "1             Breathe            41             38          7\n",
       "2  i was all over her            53             35          6"
      ]
     },
     "execution_count": 30,
     "metadata": {},
     "output_type": "execute_result"
    }
   ],
   "source": [
    "## DANCE VALUE SCALE: 0-100\n",
    "## ENERGY VALUE SCALE: 0-100\n",
    "## HAPPINESS VALUE SCALE: 0-100\n"
   ]
  },
  {
   "cell_type": "code",
   "execution_count": 51,
   "id": "a0a736db",
   "metadata": {},
   "outputs": [
    {
     "name": "stdout",
     "output_type": "stream",
     "text": [
      "The most common genre is: modern rock\n"
     ]
    }
   ],
   "source": [
    "from collections import Counter\n",
    "\n",
    "gdf['Genre'] = gdf['Genre'].astype(str)\n",
    "\n",
    "# Assuming your DataFrame is named 'df' and the genres are in the first column\n",
    "# Replace 'YOUR_COLUMN_NAME' with the actual name of your first column\n",
    "\n",
    "# Create a Counter to count genre occurrences\n",
    "genre_counter = Counter()\n",
    "\n",
    "# Iterate over each row in the DataFrame\n",
    "for index, row in gdf.iterrows():\n",
    "    # Split the genres in the current row (assuming they are comma-separated)\n",
    "    genres = row['Genre'].split(', ')\n",
    "\n",
    "    # Update the genre_counter with the genres in the current row\n",
    "    genre_counter.update(genres)\n",
    "\n",
    "# Find the most common genre\n",
    "most_common_genre = genre_counter.most_common(1)[0][0]\n",
    "\n",
    "print(f\"The most common genre of your songs is: {most_common_genre}\")\n"
   ]
  },
  {
   "cell_type": "code",
   "execution_count": 37,
   "id": "0249a5d4",
   "metadata": {},
   "outputs": [
    {
     "name": "stdout",
     "output_type": "stream",
     "text": [
      "Temperature: 15.01 °C\n",
      "Weather Description: scattered clouds\n",
      "Wind Speed: 2.06 m/s\n",
      "Humidity: 77%\n",
      "Cloudiness: 40%\n"
     ]
    },
    {
     "data": {
      "image/png": "[encoded data removed]",
      "text/plain": [
       "<Figure size 640x480 with 1 Axes>"
      ]
     },
     "metadata": {},
     "output_type": "display_data"
    }
   ],
   "source": [
    "import requests\n",
    "import matplotlib.pyplot as plt\n",
    "\n",
    "# Replace 'YOUR_API_KEY' with your OpenWeatherMap API key\n",
    "api_key = 'ac7c2c857a99c83a3653bbdb3be5ba50'\n",
    "lat = 41.0082\n",
    "lon = 28.9784\n",
    "\n",
    "# API endpoint URL for current weather\n",
    "url = f'https://api.openweathermap.org/data/2.5/weather?lat={lat}&lon={lon}&appid={api_key}'\n",
    "\n",
    "# Make the API request\n",
    "response = requests.get(url)\n",
    "\n",
    "# Check if the request was successful (status code 200)\n",
    "if response.status_code == 200:\n",
    "    # Parse the JSON response\n",
    "    weather_data = response.json()\n",
    "\n",
    "    temperature_kelvin = weather_data['main']['temp']\n",
    "    weather_description = weather_data['weather'][0]['description']\n",
    "    wind_speed = weather_data['wind']['speed']\n",
    "    humidity = weather_data['main']['humidity']\n",
    "    clouds = weather_data['clouds']['all']\n",
    "\n",
    "    # Convert temperature from Kelvin to Celsius\n",
    "    temperature_celsius = temperature_kelvin - 273.15\n",
    "\n",
    "    # Print the weather information\n",
    "    print(f\"Temperature: {temperature_celsius:.2f} °C\")\n",
    "    print(f\"Weather Description: {weather_description}\")\n",
    "    print(f\"Wind Speed: {wind_speed} m/s\")\n",
    "    print(f\"Humidity: {humidity}%\")\n",
    "    print(f\"Cloudiness: {clouds}%\")\n",
    "\n",
    "    # Bar graph\n",
    "    features = ['Temperature', 'Humidity', 'Cloudiness', 'Wind Speed']\n",
    "    values = [temperature_celsius, humidity, clouds, wind_speed]\n",
    "\n",
    "    plt.bar(features, values, color=['red', 'blue', 'gray', 'green'])\n",
    "    plt.title('Current Weather Information')\n",
    "    plt.ylabel('Values')\n",
    "    plt.show()\n",
    "\n",
    "else:\n",
    "    print(f\"Failed to fetch weather data. Status code: {response.status_code}\")\n"
   ]
  },
  {
   "cell_type": "code",
   "execution_count": 38,
   "id": "54542995",
   "metadata": {},
   "outputs": [
    {
     "data": {
      "text/html": [
       "\n",
       "        <iframe\n",
       "            width=\"700\"\n",
       "            height=\"600\"\n",
       "            src=\"weather_map.html\"\n",
       "            frameborder=\"0\"\n",
       "            allowfullscreen\n",
       "            \n",
       "        ></iframe>\n",
       "        "
      ],
      "text/plain": [
       "<IPython.lib.display.IFrame at 0x12525e650>"
      ]
     },
     "execution_count": 38,
     "metadata": {},
     "output_type": "execute_result"
    }
   ],
   "source": [
    "import folium\n",
    "\n",
    "# Create a folium map centered at the specified latitude and longitude\n",
    "weather_map = folium.Map(location=[lat, lon], zoom_start=10)\n",
    "\n",
    "# Add a CircleMarker representing the location with popup information\n",
    "folium.CircleMarker(\n",
    "    location=[lat, lon],\n",
    "    radius=10,\n",
    "    popup=f'Temperature: {temperature_celsius} K\\nHumidity: {humidity}%\\nCloudiness: {clouds}%\\nWind Speed: {wind_speed} m/s',\n",
    "    color='blue',\n",
    "    fill=True,\n",
    "    fill_color='blue'\n",
    ").add_to(weather_map)\n",
    "\n",
    "# Add a marker for the location with a popup displaying weather information\n",
    "\n",
    "# Save the map as an HTML file or display it in a Jupyter notebook\n",
    "weather_map.save('weather_map.html')\n",
    "\n",
    "from IPython.display import IFrame\n",
    "\n",
    "# Open the generated HTML file in an iframe within the Jupyter Notebook\n",
    "IFrame(src='weather_map.html', width=700, height=600)"
   ]
  },
  {
   "cell_type": "code",
   "execution_count": 95,
   "id": "b768e65d",
   "metadata": {},
   "outputs": [
    {
     "name": "stdout",
     "output_type": "stream",
     "text": [
      "\n",
      " If the temperature would be below 0°C -> Number of songs: 41\n",
      "\n",
      " If the temperature would be between 0°C-20°C  -> Number of songs: 253\n",
      "\n",
      " If the temperature would be above 20°C -> Number of songs: 47\n"
     ]
    },
    {
     "data": {
      "image/png": "[encoded data removed]",
      "text/plain": [
       "<Figure size 640x480 with 1 Axes>"
      ]
     },
     "metadata": {},
     "output_type": "display_data"
    }
   ],
   "source": [
    "# This is the part where songs get filtered according to the weather condition of the current day of the user.\n",
    "# A new filtering alogrithm will be applied which is the addition of the features 'Energy Values', 'Happiness', 'Dance Values' will be used.\n",
    "# The range of this scale will be between 0 and 300 since each element has a max value of 100\n",
    "# If the current temperature of the day is below 0 the songs that have addition between 0 and 100 will be chosen\n",
    "# If the current temperature of the day is between 0 and 20 the songs that have addition between 100 and 200 will be chosen\n",
    "# If the current temperature of the day is above 20 the songs that have addition above 200 will be chosen\n",
    "#\n",
    "\n",
    "# Assuming you have a DataFrame named 'df' with columns like \"Song Name\", \"Temperature_Celsius\", \"Danceability\", \"Instrumentalness\", \"Energy\"\n",
    "# Replace this with your actual DataFrame\n",
    "# For demonstration purposes, I'm creating a sample DataFrame\n",
    "\n",
    "# Function to filter songs based on temperature and the sum of specified features\n",
    "def filter_songs(temperature_celsius, df):\n",
    "    if temperature_celsius < 0:\n",
    "        return df[(df['Dance Values'] + df['Energy Values'] + df['Happiness']).between(0, 100)]\n",
    "    elif 0 <= temperature_celsius <= 20:\n",
    "        return df[(df['Dance Values'] + df['Energy Values'] + df['Happiness']).between(100, 200)]\n",
    "    else:\n",
    "       return df[(df['Dance Values'] + df['Energy Values'] + df['Happiness']).between(200, 300)]\n",
    "\n",
    "new_temp1 = -5 # A chosen temperature below 0°C to see the number of convenient songs the user has for this temperature\n",
    "new_temp3 = 15 # A chosen temperature between 0°C - 20°C to see the number of convenient songs the user has for this temperature\n",
    "new_temp2 = 25 # A chosen temperature above 20°C to see the number of convenient songs the user has for this temperature\n",
    "filtered1_songs = filter_songs(new_temp1, df)\n",
    "# Print the number of songs in filtered_songs\n",
    "num_songs1 = len(filtered1_songs)\n",
    "print(f\"\\n If the temperature would be below 0°C -> Number of songs: {num_songs1}\")\n",
    "\n",
    "filtered3_songs = filter_songs(new_temp3, df)\n",
    "# Print the number of songs in filtered_songs\n",
    "num_songs3 = len(filtered3_songs)\n",
    "print(f\"\\n If the temperature would be between 0°C-20°C  -> Number of songs: {num_songs3}\")\n",
    "\n",
    "\n",
    "filtered2_songs = filter_songs(new_temp2, df)\n",
    "# Print the number of songs in filtered_songs\n",
    "num_songs2 = len(filtered2_songs)\n",
    "print(f\"\\n If the temperature would be above 20°C -> Number of songs: {num_songs2}\")\n",
    "\n",
    "\n",
    "def create_bar_graph():\n",
    "    # Example values, replace with your actual data\n",
    "    num_songs1 = 30\n",
    "    num_songs2 = 45\n",
    "    num_songs3 = 20\n",
    "\n",
    "    # Temperature categories and corresponding values\n",
    "    temperatures = ['<0°C', '20°C<', '0°C-20°C']\n",
    "    song_numbers = [num_songs1, num_songs2, num_songs3]\n",
    "\n",
    "    # Create a bar graph\n",
    "    plt.bar(temperatures, song_numbers, color=['blue', 'green', 'orange'])\n",
    "\n",
    "    # Add labels and title\n",
    "    plt.xlabel('Temperature')\n",
    "    plt.ylabel('Song Number')\n",
    "    plt.title('Number of Songs at Different Temperatures')\n",
    "\n",
    "    # Show the bar graph\n",
    "    plt.show()\n",
    "\n",
    "# Call the function to generate the bar graph\n",
    "create_bar_graph()\n",
    " \n"
   ]
  },
  {
   "cell_type": "code",
   "execution_count": 94,
   "id": "2fd365f2",
   "metadata": {},
   "outputs": [
    {
     "name": "stdout",
     "output_type": "stream",
     "text": [
      "Your songs are most listenable for temperatures between 0°C and 20°C.\n"
     ]
    }
   ],
   "source": [
    "def most_listenable_temperature(num_songs1, num_songs2, num_songs3):\n",
    "    maxTemp = max(num_songs1, num_songs2, num_songs3)\n",
    "    \n",
    "    if maxTemp == num_songs1:\n",
    "        print('Your songs are most listenable for temperatures below 0°C.')\n",
    "    elif maxTemp == num_songs2:\n",
    "        print('Your songs are most listenable for temperatures above 20°C.')\n",
    "    else:\n",
    "        print('Your songs are most listenable for temperatures between 0°C and 20°C.')\n",
    "        \n",
    "most_listenable_temperature(num_songs1, num_songs2, num_songs3)"
   ]
  },
  {
   "cell_type": "code",
   "execution_count": 92,
   "id": "1dddb51f",
   "metadata": {},
   "outputs": [
    {
     "name": "stdout",
     "output_type": "stream",
     "text": [
      "Songs for the current temperature of=15.010000000000048°C :\n",
      "\n",
      " ['Basic Instinct', 'Try Hard Fool', 'Pyro', 'Myth', 'Space Song', 'The Good Side', 'Sleep Forever', 'midnight love', 'Ivy', 'Falling Down - Bonus Track', 'Liability', 'Take Care', 'Telescope', 'Migraine', 'Bored', '505', 'High By The Beach', 'Everybody', 'Please, Please, Please, Let Me Get What I Want - 2011 Remaster', 'Taking Pictures Of You', 'Dark Paradise', 'Wires', 'Pretty When You Cry', 'Heaven', 'So It Goes', 'Come a Little Closer', 'Everytime', 'Bunker', 'Surf', 'Woods', 'Good News', 'Location', 'Share with Me the Sun', 'Drew Barrymore', 'Good Days', 'Dark Necessities', 'All the Pretty Girls', 'Don’t Delete The Kisses', 'California', 'Brooklyn Baby', 'Sweater Weather', 'Aquarium', 'Naive', \"16 / 04 / 16 (Jack's Song)\", '18 Dollars', '2009', \"You're Somebody Else\", 'Softcore', 'Habits (Stay High)', 'Bloom Later', 'Warned You', 'First Love / Late Spring', 'American Honey', 'Heavenly', 'Sunsetz', 'Sadderdaze', 'Without You', 'Goner', 'Beautiful People Beautiful Problems (feat. Stevie Nicks)', 'Fear', 'Trouble', 'Silver Soul', 'Olive Juice', 'Flawless', 'I Love You So', 'Fancy Shoes', 'Mykonos', 'White Winter Hymnal', 'Reflections', 'Back to the Old House - 2011 Remaster', 'Working for the Knife', 'Love Hurts - 2007 Remaster', 'Alleyways', 'Meet Me in The Pale Moonlight', 'R.I.P. 2 My Youth', '400 Lux', 'Leaving Tonight', 'You Get Me So High', 'Call It Fate, Call It Karma', 'Sweetie Little Jean', 'Too Late To Say Goodbye', 'Sad Girl', 'Eventually', 'New Person, Same Old Mistakes', 'Paracetamol', 'Ghosting', 'Feels Like We Only Go Backwards', \"I Know It's Over - 2011 Remaster\", 'Afraid', 'When You Were Made', 'Nervous', 'Francis Forever', 'No Buses', 'Cry Baby', 'Void', 'You', 'American Money', \"Yes I'm Changing\", 'How Are You True', 'From the Dining Table', 'Golden Hour', 'Scary Love', 'National Anthem', 'Born To Die', 'Ride', 'The Sun', 'Do You', 'People Say', 'Created', 'Smile', 'Once Was One', 'So American', 'Ayye', 'ROS', 'Weekend (feat. Miguel)', 'Jet Fuel', 'Small Worlds', 'Blue World', 'The Hours', 'Beyond Love', 'Zebra', 'Once Twice Melody', 'Pink Funeral', 'White Teeth Teens', 'Supercut', 'A World Alone', 'Buzzcut Season', 'Skin and Bones', 'Cigarette Daydreams', 'Come A Little Closer', 'The Adults Are Talking', 'At The Door', 'Not The Same Anymore', 'Someday', 'PRIDE.', 'Saved', 'Chanel', 'Olive Juice', 'Riot Van', 'Atlantis', 'Oceans', 'Missing', 'Heavydirtysoul', 'List Of People (To Try And Forget About)', 'Super Rich Kids', 'Televised', 'July', 'Dreams Tonite', 'Adult Diversion', 'Neon Moon - with Kacey Musgraves', 'Undercover Martyn', 'She Will Be Loved', 'perfume', \"Sky's Still Blue\", 'Brian is the Most Beautiful', 'Oceans', 'Green Light', 'Ribs', 'Daddy Issues', 'Lover of Mine', \"What's the Use?\", 'Hurt Feelings', 'Wings', \"Floating (Time Isn't Working My Side)\", 'It Might Be Time', 'Fallen Star', 'Brand Name', 'A Little While', 'The Blackest Day', 'dear god', 'Bros', 'dying on the inside', 'HONEST', 'PRIDE.', 'XXX. FEAT. U2.', 'Crave You', 'Happy & Sad', 'Silver Soul', 'Wildflower', 'The Hours', 'Zebra', 'PPP', 'Gap in the Clouds', 'That Easy', 'American Honey', 'Bye-bye Darling', 'Goodbye', 'Half a Person - 2011 Remaster', 'Yazlık', 'Gördüm Günümü', 'Bir Düşün', 'HOŞÇAKAL KADAR', 'Maazallah (YGA)', 'Olanla Olunmaz', 'Bırakma Kendini', 'Halah', \"I'm In Here\", 'Make Me Your Queen', 'Sleep Apnea', 'Alrighty Aphrodite', 'Back In The Day', 'Rush Hour', 'Ladders', 'Perfect Circle / God Speed', 'Hands', 'Right', 'Floating', 'Hand Me Downs', 'I Can See', 'Complicated', 'Circles', 'Norway', 'West Coast', 'Without You', 'Florida Kilos', 'Diet Mountain Dew', 'Radio', 'Music To Watch Boys To', 'Crying All the Time', 'The Face', 'Rosa', 'Dopamine', 'Full Moon', 'Blue', 'Objects in the Mirror', 'Cupid', \"Let's Fall in Love for the Night\", \"Don't Come Home Today\", 'Because', 'Do Not Claim Them Anymore', 'Mardy Bum', 'Same Ol’ Mistakes', 'Stay', 'Cherry-coloured Funk', 'Savior', 'Backseat Freestyle', 'untitled 07 | 2014 - 2016', \"DON'T SHOOT UP THE PARTY\", 'lie', 'Say Yes To Heaven', 'İstediğin Gibi Kullan', 'Takıl Yani Takmıyo Belli', 'Koca Bir Saçmalık', 'Sleeping Powder', 'people', 'Television / So Far So Good', 'Les', 'Heartbeat', 'Bonfire', 'IV. Sweatpants', 'I. The Worst Guys', 'N95', 'Count Me Out']\n",
      "\n",
      "Number of the convenient songs: 253\n"
     ]
    }
   ],
   "source": [
    "# Filter songs based on temperature_celsius\n",
    "filtered_songs = filter_songs(temperature_celsius, df)\n",
    "\n",
    "# Print only the song names in filtered_songs\n",
    "print(f\"Songs for the current temperature of={temperature_celsius}°C :\\n\\n\", filtered_songs['Song Name'].tolist())\n",
    "\n",
    "# Print the number of songs in filtered_songs\n",
    "num_songs = len(filtered_songs)\n",
    "print(f\"\\nNumber of the convenient songs: {num_songs}\")"
   ]
  },
  {
   "cell_type": "code",
   "execution_count": 93,
   "id": "279e1bb6",
   "metadata": {},
   "outputs": [
    {
     "name": "stdout",
     "output_type": "stream",
     "text": [
      "Since the cloudiness of the weather is below 50% more filtering will be applied on the chosen songs:\n",
      "\n",
      "\n",
      "['Basic Instinct', 'Try Hard Fool', 'Space Song', 'Sleep Forever', 'Ivy', 'Falling Down - Bonus Track', 'Liability', 'Take Care', 'Telescope', 'Migraine', 'Bored', '505', 'High By The Beach', 'Everybody', 'Taking Pictures Of You', 'Dark Paradise', 'Wires', 'Pretty When You Cry', 'Heaven', 'So It Goes', 'Bunker', 'Surf', 'Woods', 'Good News', 'Location', 'Share with Me the Sun', 'Drew Barrymore', 'Dark Necessities', 'Don’t Delete The Kisses', 'Sweater Weather', 'Aquarium', \"16 / 04 / 16 (Jack's Song)\", '18 Dollars', '2009', \"You're Somebody Else\", 'Softcore', 'Habits (Stay High)', 'Bloom Later', 'Warned You', 'Heavenly', 'Sadderdaze', 'Without You', 'Goner', 'Beautiful People Beautiful Problems (feat. Stevie Nicks)', 'Fear', 'Olive Juice', 'Flawless', 'I Love You So', 'Fancy Shoes', 'White Winter Hymnal', 'Reflections', 'Back to the Old House - 2011 Remaster', 'Love Hurts - 2007 Remaster', 'Alleyways', 'Meet Me in The Pale Moonlight', '400 Lux', 'Leaving Tonight', 'You Get Me So High', 'Call It Fate, Call It Karma', 'Sweetie Little Jean', 'Ghosting', 'When You Were Made', 'Nervous', 'Francis Forever', 'Cry Baby', 'Void', 'American Money', 'From the Dining Table', 'Golden Hour', 'Scary Love', 'National Anthem', 'The Sun', 'People Say', 'Created', 'So American', 'Ayye', 'ROS', 'Weekend (feat. Miguel)', 'Jet Fuel', 'Small Worlds', 'Blue World', 'Zebra', 'White Teeth Teens', 'Supercut', 'A World Alone', 'Buzzcut Season', 'Skin and Bones', 'Cigarette Daydreams', 'The Adults Are Talking', 'Someday', 'PRIDE.', 'Saved', 'Chanel', 'Olive Juice', 'Riot Van', 'Heavydirtysoul', 'Super Rich Kids', 'Televised', 'July', 'Dreams Tonite', 'Neon Moon - with Kacey Musgraves', 'She Will Be Loved', 'perfume', 'Oceans', 'Green Light', 'Ribs', 'Daddy Issues', 'Lover of Mine', \"What's the Use?\", 'Hurt Feelings', 'Wings', \"Floating (Time Isn't Working My Side)\", 'It Might Be Time', 'Fallen Star', 'A Little While', 'dear god', 'Bros', 'dying on the inside', 'HONEST', 'PRIDE.', 'XXX. FEAT. U2.', 'Crave You', 'Happy & Sad', 'Zebra', 'Gap in the Clouds', 'Half a Person - 2011 Remaster', 'Gördüm Günümü', 'HOŞÇAKAL KADAR', 'Maazallah (YGA)', 'Bırakma Kendini', 'Halah', \"I'm In Here\", 'Sleep Apnea', 'Alrighty Aphrodite', 'Back In The Day', 'Rush Hour', 'Ladders', 'Hands', 'Right', 'Floating', 'Hand Me Downs', 'I Can See', 'Complicated', 'Circles', 'West Coast', 'Without You', 'Diet Mountain Dew', 'Rosa', 'Dopamine', 'Full Moon', 'Blue', 'Objects in the Mirror', 'Cupid', \"Let's Fall in Love for the Night\", 'Do Not Claim Them Anymore', 'Mardy Bum', 'Stay', 'Savior', 'Backseat Freestyle', 'untitled 07 | 2014 - 2016', \"DON'T SHOOT UP THE PARTY\", 'lie', 'İstediğin Gibi Kullan', 'Sleeping Powder', 'people', 'Les', 'Heartbeat', 'Bonfire', 'IV. Sweatpants', 'I. The Worst Guys', 'N95', 'Count Me Out']\n",
      "\n",
      "\n",
      "\n",
      "Number of the convenient songs: 172\n"
     ]
    }
   ],
   "source": [
    "# Now we will do more filtering for extreme conditions of humidity, cloudiness\n",
    "# If the cloudiness percentage is below 50% we will do more filtering on the chosen songs which will only look\n",
    "# for the songs that have dance values above 50.\n",
    "# If the humidity percentage is above 70% we will do more filtering on the chosen songs which will only look\n",
    "# for the songs that have happiness values below 50 since there's a higher chance that it may be a rainy day.\n",
    "\n",
    "def filter_cloudiness(clouds, filtered_songs):\n",
    "    return filtered_songs[(filtered_songs['Dance Values']).between(50, 100)]\n",
    "                           \n",
    "\n",
    "# Assuming 'filtered_songs' is your DataFrame with 'Dance Values' column\n",
    "# Replace with your actual DataFrame name\n",
    "phase_status = 0\n",
    "\n",
    "if clouds < 50:\n",
    "    phase_status = 1\n",
    "    print('Since the cloudiness of the weather is below 50% more filtering will be applied on the chosen songs:\\n\\n')\n",
    "    filtered_phase1 = filter_cloudiness(clouds, filtered_songs)\n",
    "    print(filtered_phase1['Song Name'].tolist())\n",
    "    print('\\n\\n')\n",
    "    print(f\"Number of the convenient songs: {len(filtered_phase1)}\")\n",
    "else: \n",
    "    print('Since there is no extreme condition for the cloudiness of the weather more filtering will not be applied')\n",
    "  \n",
    "    "
   ]
  },
  {
   "cell_type": "code",
   "execution_count": 91,
   "id": "3b4f6e59",
   "metadata": {},
   "outputs": [
    {
     "name": "stdout",
     "output_type": "stream",
     "text": [
      "Since the humidity of the weather is above 70% more filtering will be applied on the chosen songs:\n",
      "\n",
      "\n",
      "['Basic Instinct', 'Try Hard Fool', 'Sleep Forever', 'Ivy', 'Falling Down - Bonus Track', 'Liability', 'Take Care', 'Telescope', 'Migraine', 'Bored', '505', 'High By The Beach', 'Everybody', 'Dark Paradise', 'Wires', 'Pretty When You Cry', 'Heaven', 'So It Goes', 'Bunker', 'Surf', 'Woods', 'Good News', 'Location', 'Drew Barrymore', 'Dark Necessities', 'Don’t Delete The Kisses', 'Sweater Weather', 'Aquarium', \"16 / 04 / 16 (Jack's Song)\", '18 Dollars', '2009', \"You're Somebody Else\", 'Softcore', 'Habits (Stay High)', 'Bloom Later', 'Warned You', 'Heavenly', 'Sadderdaze', 'Goner', 'Beautiful People Beautiful Problems (feat. Stevie Nicks)', 'Olive Juice', 'Flawless', 'I Love You So', 'Back to the Old House - 2011 Remaster', 'Alleyways', '400 Lux', 'Leaving Tonight', 'You Get Me So High', 'Call It Fate, Call It Karma', 'Sweetie Little Jean', 'Ghosting', 'When You Were Made', 'Nervous', 'Francis Forever', 'Cry Baby', 'Void', 'American Money', 'From the Dining Table', 'Golden Hour', 'Scary Love', 'National Anthem', 'Created', 'Ayye', 'ROS', 'Weekend (feat. Miguel)', 'Jet Fuel', 'Zebra', 'White Teeth Teens', 'Supercut', 'A World Alone', 'Buzzcut Season', 'Skin and Bones', 'Cigarette Daydreams', 'PRIDE.', 'Chanel', 'Olive Juice', 'Riot Van', 'Heavydirtysoul', 'Televised', 'July', 'Dreams Tonite', 'Neon Moon - with Kacey Musgraves', 'Oceans', 'Green Light', 'Ribs', 'Daddy Issues', 'Lover of Mine', 'Hurt Feelings', 'Wings', 'It Might Be Time', 'Fallen Star', 'A Little While', 'dear god', 'Bros', 'dying on the inside', 'HONEST', 'PRIDE.', 'XXX. FEAT. U2.', 'Crave You', 'Zebra', 'Gap in the Clouds', 'HOŞÇAKAL KADAR', 'Maazallah (YGA)', \"I'm In Here\", 'Sleep Apnea', 'Alrighty Aphrodite', 'Back In The Day', 'Rush Hour', 'Ladders', 'Right', 'Floating', 'Hand Me Downs', 'I Can See', 'Circles', 'West Coast', 'Rosa', 'Blue', 'Objects in the Mirror', \"Let's Fall in Love for the Night\", 'Mardy Bum', 'untitled 07 | 2014 - 2016', 'İstediğin Gibi Kullan', 'Sleeping Powder', 'people', 'Les', 'Heartbeat', 'Bonfire', 'I. The Worst Guys', 'N95', 'Count Me Out']\n",
      "\n",
      "\n",
      "\n",
      "Number of the songs: 130\n"
     ]
    }
   ],
   "source": [
    "def filter_humidity(humidity, filtered_phase2):\n",
    "    return filtered_phase2[(filtered_phase2['Happiness']).between(0, 50)]\n",
    "\n",
    "if phase_status == 1:\n",
    "    if humidity > 70:\n",
    "        print('Since the humidity of the weather is above 70% more filtering will be applied on the chosen songs:\\n\\n')\n",
    "        filtered_phase2 = filter_humidity(humidity, filtered_phase1)\n",
    "        print(filtered_phase2['Song Name'].tolist())\n",
    "        print('\\n\\n')\n",
    "        print(f\"Number of the songs: {len(filtered_phase2)}\") \n",
    "    else: \n",
    "        print('Since there is no extreme condition for the humidity of the weather more filtering will not be applied')\n",
    "  \n",
    "        \n",
    "else:\n",
    "    if humidity > 70:\n",
    "        print('Since the humidity of the weather is above 70% more filtering will be applied on the chosen songs:\\n\\n')\n",
    "        filtered_phase2 = filter_humidity(humidity, filtered_songs)\n",
    "        print(filtered_phase2['Song Name'].tolist())\n",
    "        print('\\n\\n')\n",
    "        print(f\"Number of the convenient songs: {len(filtered_phase2)}\") \n",
    "    else: \n",
    "        print('Since there is no extreme condition for the humidity of the weather more filtering will not be applied')\n",
    "  \n",
    "  \n"
   ]
  },
  {
   "cell_type": "code",
   "execution_count": null,
   "id": "8bcc2747",
   "metadata": {},
   "outputs": [],
   "source": []
  }
 ],
 "metadata": {
  "kernelspec": {
   "display_name": "Python 3 (ipykernel)",
   "language": "python",
   "name": "python3"
  },
  "language_info": {
   "codemirror_mode": {
    "name": "ipython",
    "version": 3
   },
   "file_extension": ".py",
   "mimetype": "text/x-python",
   "name": "python",
   "nbconvert_exporter": "python",
   "pygments_lexer": "ipython3",
   "version": "3.11.5"
  }
 },
 "nbformat": 4,
 "nbformat_minor": 5
}
